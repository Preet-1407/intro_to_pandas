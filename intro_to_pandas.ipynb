{
 "cells": [
  {
   "cell_type": "markdown",
   "id": "64b2429d",
   "metadata": {},
   "source": [
    "# pandas series and data fram"
   ]
  },
  {
   "cell_type": "markdown",
   "id": "bf7467a0",
   "metadata": {},
   "source": [
    "# series"
   ]
  },
  {
   "cell_type": "raw",
   "id": "219f69d5",
   "metadata": {},
   "source": [
    "1. form of sequentially one dimensional array\n",
    "2.all elements one data type\n",
    "3.can be created from lists , tuples and array"
   ]
  },
  {
   "cell_type": "markdown",
   "id": "7772d672",
   "metadata": {},
   "source": [
    "# data frame"
   ]
  },
  {
   "cell_type": "markdown",
   "id": "0e8eb9ac",
   "metadata": {},
   "source": [
    "1.two dimensional data structure that can store various type of data "
   ]
  },
  {
   "cell_type": "code",
   "execution_count": 2,
   "id": "606d613d",
   "metadata": {},
   "outputs": [],
   "source": [
    "import pandas as pd "
   ]
  },
  {
   "cell_type": "code",
   "execution_count": 3,
   "id": "2e8cafda",
   "metadata": {},
   "outputs": [
    {
     "data": {
      "text/plain": [
       "0    M\n",
       "1    F\n",
       "2    M\n",
       "3    M\n",
       "4    F\n",
       "dtype: object"
      ]
     },
     "execution_count": 3,
     "metadata": {},
     "output_type": "execute_result"
    }
   ],
   "source": [
    "pd.Series([\"M\",\"F\",\"M\",\"M\".\"F\"])"
   ]
  },
  {
   "cell_type": "code",
   "execution_count": 4,
   "id": "b6e7ffd8",
   "metadata": {},
   "outputs": [],
   "source": [
    "import numpy as np "
   ]
  },
  {
   "cell_type": "code",
   "execution_count": 7,
   "id": "0358a256",
   "metadata": {},
   "outputs": [],
   "source": [
    "gen=pd.Series(np.array([\"M\",\"F\",\"M\",\"M\",\"F\"]))"
   ]
  },
  {
   "cell_type": "code",
   "execution_count": 8,
   "id": "948c78c7",
   "metadata": {},
   "outputs": [
    {
     "data": {
      "text/plain": [
       "pandas.core.series.Series"
      ]
     },
     "execution_count": 8,
     "metadata": {},
     "output_type": "execute_result"
    }
   ],
   "source": [
    "type(gen)"
   ]
  },
  {
   "cell_type": "code",
   "execution_count": 17,
   "id": "c3c7a9f4",
   "metadata": {},
   "outputs": [],
   "source": [
    "dic={ \"a\":1,\"b\":2 ,3:\"c\",4:15}\n",
    "dic_1=pd.Series(dic)"
   ]
  },
  {
   "cell_type": "code",
   "execution_count": 18,
   "id": "c1eee455",
   "metadata": {},
   "outputs": [
    {
     "data": {
      "text/plain": [
       "pandas.core.series.Series"
      ]
     },
     "execution_count": 18,
     "metadata": {},
     "output_type": "execute_result"
    }
   ],
   "source": [
    "type(dic_1)"
   ]
  },
  {
   "cell_type": "code",
   "execution_count": 19,
   "id": "2a8a6b33",
   "metadata": {},
   "outputs": [
    {
     "data": {
      "text/plain": [
       "Index(['a', 'b', 3, 4], dtype='object')"
      ]
     },
     "execution_count": 19,
     "metadata": {},
     "output_type": "execute_result"
    }
   ],
   "source": [
    "dic_1.index"
   ]
  },
  {
   "cell_type": "code",
   "execution_count": 20,
   "id": "01179e9d",
   "metadata": {},
   "outputs": [
    {
     "data": {
      "text/plain": [
       "array([1, 2, 'c', 15], dtype=object)"
      ]
     },
     "execution_count": 20,
     "metadata": {},
     "output_type": "execute_result"
    }
   ],
   "source": [
    "dic_1.values"
   ]
  },
  {
   "cell_type": "code",
   "execution_count": 25,
   "id": "649b80f8",
   "metadata": {},
   "outputs": [],
   "source": [
    "list_1=[\"2023-01-15\",17.26,\"harpreet\",1000,True,False,13\n",
    "       ]\n",
    "ser=pd.Series(list_1)"
   ]
  },
  {
   "cell_type": "code",
   "execution_count": 26,
   "id": "11703708",
   "metadata": {},
   "outputs": [
    {
     "data": {
      "text/plain": [
       "0    2023-01-15\n",
       "1         17.26\n",
       "2      harpreet\n",
       "3          1000\n",
       "4          True\n",
       "5         False\n",
       "6            13\n",
       "dtype: object"
      ]
     },
     "execution_count": 26,
     "metadata": {},
     "output_type": "execute_result"
    }
   ],
   "source": [
    "ser"
   ]
  },
  {
   "cell_type": "code",
   "execution_count": 27,
   "id": "869deb2b",
   "metadata": {},
   "outputs": [
    {
     "data": {
      "text/plain": [
       "RangeIndex(start=0, stop=7, step=1)"
      ]
     },
     "execution_count": 27,
     "metadata": {},
     "output_type": "execute_result"
    }
   ],
   "source": [
    "ser.index"
   ]
  },
  {
   "cell_type": "code",
   "execution_count": 32,
   "id": "4b60bbab",
   "metadata": {},
   "outputs": [],
   "source": [
    "df=pd.DataFrame({\"name\":[\"harpreet\",\"karmi\",\"tanu\",\"arsh\"],\"age\":[19,20,23,24],\"sex\":[\"female\",\"female\",\"female\",\"male\"]})"
   ]
  },
  {
   "cell_type": "code",
   "execution_count": 33,
   "id": "e8440e69",
   "metadata": {},
   "outputs": [
    {
     "data": {
      "text/plain": [
       "0    19\n",
       "1    20\n",
       "2    23\n",
       "3    24\n",
       "Name: age, dtype: int64"
      ]
     },
     "execution_count": 33,
     "metadata": {},
     "output_type": "execute_result"
    }
   ],
   "source": [
    "df[\"age\"]"
   ]
  },
  {
   "cell_type": "code",
   "execution_count": 34,
   "id": "b958aa4b",
   "metadata": {},
   "outputs": [
    {
     "data": {
      "text/plain": [
       "pandas.core.series.Series"
      ]
     },
     "execution_count": 34,
     "metadata": {},
     "output_type": "execute_result"
    }
   ],
   "source": [
    "type(df[\"age\"])"
   ]
  },
  {
   "cell_type": "code",
   "execution_count": 35,
   "id": "5dd01ea4",
   "metadata": {},
   "outputs": [
    {
     "data": {
      "text/plain": [
       "19"
      ]
     },
     "execution_count": 35,
     "metadata": {},
     "output_type": "execute_result"
    }
   ],
   "source": [
    "df[\"age\"][0]"
   ]
  },
  {
   "cell_type": "code",
   "execution_count": 36,
   "id": "a4c1b09e",
   "metadata": {},
   "outputs": [
    {
     "data": {
      "text/plain": [
       "Index(['name', 'age', 'sex'], dtype='object')"
      ]
     },
     "execution_count": 36,
     "metadata": {},
     "output_type": "execute_result"
    }
   ],
   "source": [
    "df.columns"
   ]
  },
  {
   "cell_type": "code",
   "execution_count": 38,
   "id": "151dc5b4",
   "metadata": {},
   "outputs": [
    {
     "data": {
      "text/plain": [
       "'harpreet'"
      ]
     },
     "execution_count": 38,
     "metadata": {},
     "output_type": "execute_result"
    }
   ],
   "source": [
    "df[\"name\"][0]"
   ]
  },
  {
   "cell_type": "code",
   "execution_count": 62,
   "id": "ecb9ba0b",
   "metadata": {},
   "outputs": [],
   "source": [
    "seri_1=pd.Series([0,1,2,3,4,5],index=[1,2,3,4,5,6])\n",
    "seri_2=pd.Series([1,2,3,4,5],index=[2,3,4,5,6])"
   ]
  },
  {
   "cell_type": "code",
   "execution_count": 58,
   "id": "38b7c825",
   "metadata": {},
   "outputs": [
    {
     "data": {
      "text/plain": [
       "1    0\n",
       "2    1\n",
       "3    2\n",
       "4    3\n",
       "5    4\n",
       "6    5\n",
       "dtype: int64"
      ]
     },
     "execution_count": 58,
     "metadata": {},
     "output_type": "execute_result"
    }
   ],
   "source": [
    "seri_1"
   ]
  },
  {
   "cell_type": "code",
   "execution_count": 63,
   "id": "353099fc",
   "metadata": {},
   "outputs": [
    {
     "data": {
      "text/plain": [
       "1     NaN\n",
       "2     2.0\n",
       "3     4.0\n",
       "4     6.0\n",
       "5     8.0\n",
       "6    10.0\n",
       "dtype: float64"
      ]
     },
     "execution_count": 63,
     "metadata": {},
     "output_type": "execute_result"
    }
   ],
   "source": [
    "seri_1+seri_2"
   ]
  },
  {
   "cell_type": "code",
   "execution_count": 64,
   "id": "1705ff99",
   "metadata": {},
   "outputs": [
    {
     "data": {
      "text/plain": [
       "1     NaN\n",
       "2     1.0\n",
       "3     4.0\n",
       "4     9.0\n",
       "5    16.0\n",
       "6    25.0\n",
       "dtype: float64"
      ]
     },
     "execution_count": 64,
     "metadata": {},
     "output_type": "execute_result"
    }
   ],
   "source": [
    "seri_1*seri_2"
   ]
  },
  {
   "cell_type": "code",
   "execution_count": 66,
   "id": "e720bf11",
   "metadata": {},
   "outputs": [
    {
     "data": {
      "text/plain": [
       "15"
      ]
     },
     "execution_count": 66,
     "metadata": {},
     "output_type": "execute_result"
    }
   ],
   "source": [
    "seri_1.sum()"
   ]
  },
  {
   "cell_type": "code",
   "execution_count": 67,
   "id": "38560b8a",
   "metadata": {},
   "outputs": [
    {
     "data": {
      "text/plain": [
       "15"
      ]
     },
     "execution_count": 67,
     "metadata": {},
     "output_type": "execute_result"
    }
   ],
   "source": [
    "seri_2.sum()"
   ]
  },
  {
   "cell_type": "code",
   "execution_count": 68,
   "id": "96fa6a7e",
   "metadata": {},
   "outputs": [
    {
     "data": {
      "text/plain": [
       "2.5"
      ]
     },
     "execution_count": 68,
     "metadata": {},
     "output_type": "execute_result"
    }
   ],
   "source": [
    "seri_1.mean()"
   ]
  },
  {
   "cell_type": "code",
   "execution_count": 69,
   "id": "579f7bf9",
   "metadata": {},
   "outputs": [
    {
     "data": {
      "text/plain": [
       "2.5"
      ]
     },
     "execution_count": 69,
     "metadata": {},
     "output_type": "execute_result"
    }
   ],
   "source": [
    "seri_1.median()"
   ]
  },
  {
   "cell_type": "code",
   "execution_count": 70,
   "id": "15f1a7d7",
   "metadata": {},
   "outputs": [
    {
     "data": {
      "text/plain": [
       "5"
      ]
     },
     "execution_count": 70,
     "metadata": {},
     "output_type": "execute_result"
    }
   ],
   "source": [
    "seri_1.max()"
   ]
  },
  {
   "cell_type": "code",
   "execution_count": 71,
   "id": "21046ff6",
   "metadata": {},
   "outputs": [
    {
     "data": {
      "text/plain": [
       "1.8708286933869707"
      ]
     },
     "execution_count": 71,
     "metadata": {},
     "output_type": "execute_result"
    }
   ],
   "source": [
    "seri_1.std()"
   ]
  },
  {
   "cell_type": "code",
   "execution_count": 72,
   "id": "932bc26b",
   "metadata": {},
   "outputs": [
    {
     "data": {
      "text/plain": [
       "3.5"
      ]
     },
     "execution_count": 72,
     "metadata": {},
     "output_type": "execute_result"
    }
   ],
   "source": [
    "seri_1.var()"
   ]
  },
  {
   "cell_type": "code",
   "execution_count": 73,
   "id": "3fa70b36",
   "metadata": {},
   "outputs": [
    {
     "data": {
      "text/plain": [
       "1    0\n",
       "2    1\n",
       "3    2\n",
       "4    3\n",
       "5    4\n",
       "6    5\n",
       "dtype: int64"
      ]
     },
     "execution_count": 73,
     "metadata": {},
     "output_type": "execute_result"
    }
   ],
   "source": [
    "seri_1.sort_values()"
   ]
  },
  {
   "cell_type": "code",
   "execution_count": 76,
   "id": "39458d53",
   "metadata": {},
   "outputs": [],
   "source": [
    "ser_3=pd.Series([11,12,13],name=\"rollno\")"
   ]
  },
  {
   "cell_type": "code",
   "execution_count": 77,
   "id": "eae2fa4f",
   "metadata": {},
   "outputs": [],
   "source": [
    "plus_10=lambda x:x+10"
   ]
  },
  {
   "cell_type": "code",
   "execution_count": 79,
   "id": "054abf82",
   "metadata": {},
   "outputs": [
    {
     "data": {
      "text/plain": [
       "15"
      ]
     },
     "execution_count": 79,
     "metadata": {},
     "output_type": "execute_result"
    }
   ],
   "source": [
    "plus_10(5)"
   ]
  },
  {
   "cell_type": "code",
   "execution_count": 80,
   "id": "14cef7ae",
   "metadata": {},
   "outputs": [
    {
     "data": {
      "text/plain": [
       "0    21\n",
       "1    22\n",
       "2    23\n",
       "Name: rollno, dtype: int64"
      ]
     },
     "execution_count": 80,
     "metadata": {},
     "output_type": "execute_result"
    }
   ],
   "source": [
    "ser_3.apply(lambda x:x+10)"
   ]
  },
  {
   "cell_type": "code",
   "execution_count": null,
   "id": "02375758",
   "metadata": {},
   "outputs": [],
   "source": []
  }
 ],
 "metadata": {
  "kernelspec": {
   "display_name": "Python 3 (ipykernel)",
   "language": "python",
   "name": "python3"
  },
  "language_info": {
   "codemirror_mode": {
    "name": "ipython",
    "version": 3
   },
   "file_extension": ".py",
   "mimetype": "text/x-python",
   "name": "python",
   "nbconvert_exporter": "python",
   "pygments_lexer": "ipython3",
   "version": "3.10.9"
  }
 },
 "nbformat": 4,
 "nbformat_minor": 5
}
